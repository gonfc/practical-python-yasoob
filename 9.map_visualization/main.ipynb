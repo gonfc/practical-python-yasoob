{
 "cells": [
  {
   "cell_type": "code",
   "execution_count": 1,
   "metadata": {},
   "outputs": [
    {
     "name": "stdout",
     "output_type": "stream",
     "text": [
      "facebook.com\n"
     ]
    }
   ],
   "source": [
    "from urllib.parse import urlparse\n",
    "url = \"https://facebook.com/hello\"\n",
    "final_url = urlparse(url).netloc\n",
    "print(final_url)\n",
    "# facebook.com"
   ]
  },
  {
   "cell_type": "code",
   "execution_count": 2,
   "metadata": {},
   "outputs": [
    {
     "name": "stdout",
     "output_type": "stream",
     "text": [
      "['https://github.com/gonfc/Es-Regnet/blob/main/notes/9.data_visualization%20(Python%20project).md\\n', 'http://detect-respond.blogspot.com/2022/04/stop-using-hashes-for-detection-and.html\\n', 'https://github.com/tokuhirom/obsidian-stopwatch-plugin\\n', 'https://keep.google.com/u/0/\\n', 'https://www.geeksforgeeks.org/socket-programming-python/\\n', 'https://www.spreadsheetclass.com/excel-filter-based-on-a-list/\\n', 'https://www.youtube.com/watch?v=zC5tXc4yGXI\\n', 'https://threatconnect.com/stix-taxii/\\n', 'https://xsoar.pan.dev/docs/reference/integrations/edl\\n', 'https://www.ibm.com/docs/en/qradar-on-cloud?topic=overview-importing-iocs-reference-set\\n', 'https://www.thedutchhacker.com/misp-on-tryhackme/\\n']\n"
     ]
    }
   ],
   "source": [
    "with open('history_data.txt', 'r') as f:\n",
    "    data = f.readlines()\n",
    "print(data)   \n",
    "\n",
    "domain_names = set()\n",
    "for url in data:\n",
    "    final_url = urlparse(url).netloc\n",
    "    final_url = final_url.split(':')[0]\n",
    "    domain_names.add(final_url)"
   ]
  },
  {
   "cell_type": "code",
   "execution_count": null,
   "metadata": {},
   "outputs": [],
   "source": []
  }
 ],
 "metadata": {
  "kernelspec": {
   "display_name": "Python 3.11.0 64-bit",
   "language": "python",
   "name": "python3"
  },
  "language_info": {
   "codemirror_mode": {
    "name": "ipython",
    "version": 3
   },
   "file_extension": ".py",
   "mimetype": "text/x-python",
   "name": "python",
   "nbconvert_exporter": "python",
   "pygments_lexer": "ipython3",
   "version": "3.11.0"
  },
  "vscode": {
   "interpreter": {
    "hash": "c4bb77e96b3cab6b0bc397f39ad862e3158f47ddb38e793e406d6cd2225e9d5a"
   }
  }
 },
 "nbformat": 4,
 "nbformat_minor": 4
}
